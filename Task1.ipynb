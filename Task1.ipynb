{
 "cells": [
  {
   "cell_type": "code",
   "execution_count": null,
   "metadata": {},
   "outputs": [
    {
     "name": "stdout",
     "output_type": "stream",
     "text": [
      "Collecting pygame\n",
      "  Downloading pygame-2.6.1-cp311-cp311-manylinux_2_17_x86_64.manylinux2014_x86_64.whl.metadata (12 kB)\n",
      "Downloading pygame-2.6.1-cp311-cp311-manylinux_2_17_x86_64.manylinux2014_x86_64.whl (14.0 MB)\n",
      "\u001b[2K   \u001b[90m━━━━━━━━━━━━━━━━━━━━━━━━━━━━━━━━━━━━━━━━\u001b[0m \u001b[32m14.0/14.0 MB\u001b[0m \u001b[31m400.6 kB/s\u001b[0m eta \u001b[36m0:00:00\u001b[0m00:01\u001b[0m00:02\u001b[0m\n",
      "\u001b[?25hInstalling collected packages: pygame\n",
      "Successfully installed pygame-2.6.1\n"
     ]
    }
   ],
   "source": [
    "%pip install pygame"
   ]
  },
  {
   "cell_type": "code",
   "execution_count": null,
   "metadata": {},
   "outputs": [
    {
     "name": "stdout",
     "output_type": "stream",
     "text": [
      "Collecting stable_baselines3\n",
      "  Using cached stable_baselines3-2.4.0-py3-none-any.whl.metadata (4.5 kB)\n",
      "Requirement already satisfied: gymnasium<1.1.0,>=0.29.1 in ./.venv/lib/python3.11/site-packages (from stable_baselines3) (1.0.0)\n",
      "Requirement already satisfied: numpy<2.0,>=1.20 in ./.venv/lib/python3.11/site-packages (from stable_baselines3) (1.26.0)\n",
      "Requirement already satisfied: torch>=1.13 in ./.venv/lib/python3.11/site-packages (from stable_baselines3) (2.5.1)\n",
      "Requirement already satisfied: cloudpickle in ./.venv/lib/python3.11/site-packages (from stable_baselines3) (3.1.0)\n",
      "Requirement already satisfied: pandas in ./.venv/lib/python3.11/site-packages (from stable_baselines3) (2.2.3)\n",
      "Requirement already satisfied: matplotlib in ./.venv/lib/python3.11/site-packages (from stable_baselines3) (3.8.0)\n",
      "Requirement already satisfied: typing-extensions>=4.3.0 in ./.venv/lib/python3.11/site-packages (from gymnasium<1.1.0,>=0.29.1->stable_baselines3) (4.12.2)\n",
      "Requirement already satisfied: farama-notifications>=0.0.1 in ./.venv/lib/python3.11/site-packages (from gymnasium<1.1.0,>=0.29.1->stable_baselines3) (0.0.4)\n",
      "Requirement already satisfied: filelock in ./.venv/lib/python3.11/site-packages (from torch>=1.13->stable_baselines3) (3.16.1)\n",
      "Requirement already satisfied: networkx in ./.venv/lib/python3.11/site-packages (from torch>=1.13->stable_baselines3) (3.4.2)\n",
      "Requirement already satisfied: jinja2 in ./.venv/lib/python3.11/site-packages (from torch>=1.13->stable_baselines3) (3.1.4)\n",
      "Requirement already satisfied: fsspec in ./.venv/lib/python3.11/site-packages (from torch>=1.13->stable_baselines3) (2024.10.0)\n",
      "Requirement already satisfied: nvidia-cuda-nvrtc-cu12==12.4.127 in ./.venv/lib/python3.11/site-packages (from torch>=1.13->stable_baselines3) (12.4.127)\n",
      "Requirement already satisfied: nvidia-cuda-runtime-cu12==12.4.127 in ./.venv/lib/python3.11/site-packages (from torch>=1.13->stable_baselines3) (12.4.127)\n",
      "Requirement already satisfied: nvidia-cuda-cupti-cu12==12.4.127 in ./.venv/lib/python3.11/site-packages (from torch>=1.13->stable_baselines3) (12.4.127)\n",
      "Requirement already satisfied: nvidia-cudnn-cu12==9.1.0.70 in ./.venv/lib/python3.11/site-packages (from torch>=1.13->stable_baselines3) (9.1.0.70)\n",
      "Requirement already satisfied: nvidia-cublas-cu12==12.4.5.8 in ./.venv/lib/python3.11/site-packages (from torch>=1.13->stable_baselines3) (12.4.5.8)\n",
      "Requirement already satisfied: nvidia-cufft-cu12==11.2.1.3 in ./.venv/lib/python3.11/site-packages (from torch>=1.13->stable_baselines3) (11.2.1.3)\n",
      "Requirement already satisfied: nvidia-curand-cu12==10.3.5.147 in ./.venv/lib/python3.11/site-packages (from torch>=1.13->stable_baselines3) (10.3.5.147)\n",
      "Requirement already satisfied: nvidia-cusolver-cu12==11.6.1.9 in ./.venv/lib/python3.11/site-packages (from torch>=1.13->stable_baselines3) (11.6.1.9)\n",
      "Requirement already satisfied: nvidia-cusparse-cu12==12.3.1.170 in ./.venv/lib/python3.11/site-packages (from torch>=1.13->stable_baselines3) (12.3.1.170)\n",
      "Requirement already satisfied: nvidia-nccl-cu12==2.21.5 in ./.venv/lib/python3.11/site-packages (from torch>=1.13->stable_baselines3) (2.21.5)\n",
      "Requirement already satisfied: nvidia-nvtx-cu12==12.4.127 in ./.venv/lib/python3.11/site-packages (from torch>=1.13->stable_baselines3) (12.4.127)\n",
      "Requirement already satisfied: nvidia-nvjitlink-cu12==12.4.127 in ./.venv/lib/python3.11/site-packages (from torch>=1.13->stable_baselines3) (12.4.127)\n",
      "Requirement already satisfied: triton==3.1.0 in ./.venv/lib/python3.11/site-packages (from torch>=1.13->stable_baselines3) (3.1.0)\n",
      "Requirement already satisfied: sympy==1.13.1 in ./.venv/lib/python3.11/site-packages (from torch>=1.13->stable_baselines3) (1.13.1)\n",
      "Requirement already satisfied: mpmath<1.4,>=1.1.0 in ./.venv/lib/python3.11/site-packages (from sympy==1.13.1->torch>=1.13->stable_baselines3) (1.3.0)\n",
      "Requirement already satisfied: contourpy>=1.0.1 in ./.venv/lib/python3.11/site-packages (from matplotlib->stable_baselines3) (1.3.1)\n",
      "Requirement already satisfied: cycler>=0.10 in ./.venv/lib/python3.11/site-packages (from matplotlib->stable_baselines3) (0.12.1)\n",
      "Requirement already satisfied: fonttools>=4.22.0 in ./.venv/lib/python3.11/site-packages (from matplotlib->stable_baselines3) (4.55.0)\n",
      "Requirement already satisfied: kiwisolver>=1.0.1 in ./.venv/lib/python3.11/site-packages (from matplotlib->stable_baselines3) (1.4.7)\n",
      "Requirement already satisfied: packaging>=20.0 in ./.venv/lib/python3.11/site-packages (from matplotlib->stable_baselines3) (24.2)\n",
      "Requirement already satisfied: pillow>=6.2.0 in ./.venv/lib/python3.11/site-packages (from matplotlib->stable_baselines3) (11.0.0)\n",
      "Requirement already satisfied: pyparsing>=2.3.1 in ./.venv/lib/python3.11/site-packages (from matplotlib->stable_baselines3) (3.2.0)\n",
      "Requirement already satisfied: python-dateutil>=2.7 in ./.venv/lib/python3.11/site-packages (from matplotlib->stable_baselines3) (2.9.0.post0)\n",
      "Requirement already satisfied: pytz>=2020.1 in ./.venv/lib/python3.11/site-packages (from pandas->stable_baselines3) (2024.2)\n",
      "Requirement already satisfied: tzdata>=2022.7 in ./.venv/lib/python3.11/site-packages (from pandas->stable_baselines3) (2024.2)\n",
      "Requirement already satisfied: six>=1.5 in ./.venv/lib/python3.11/site-packages (from python-dateutil>=2.7->matplotlib->stable_baselines3) (1.16.0)\n",
      "Requirement already satisfied: MarkupSafe>=2.0 in ./.venv/lib/python3.11/site-packages (from jinja2->torch>=1.13->stable_baselines3) (3.0.2)\n",
      "Using cached stable_baselines3-2.4.0-py3-none-any.whl (183 kB)\n",
      "Installing collected packages: stable_baselines3\n",
      "Successfully installed stable_baselines3-2.4.0\n"
     ]
    }
   ],
   "source": [
    "%pip install stable_baselines3"
   ]
  },
  {
   "cell_type": "code",
   "execution_count": 3,
   "metadata": {},
   "outputs": [],
   "source": [
    "import os\n",
    "import subprocess\n",
    "\n",
    "if subprocess.run('nvidia-smi').returncode:\n",
    "  raise RuntimeError(\n",
    "      'Cannot communicate with GPU. '\n",
    "      'Make sure you are using a GPU Colab runtime. '\n",
    "      'Go to the Runtime menu and select Choose runtime type.')\n",
    "\n",
    "# Add an ICD config so that glvnd can pick up the Nvidia EGL driver.\n",
    "# This is usually installed as part of an Nvidia driver package, but the Colab\n",
    "# kernel doesn't install its driver via APT, and as a result the ICD is missing.\n",
    "# (https://github.com/NVIDIA/libglvnd/blob/master/src/EGL/icd_enumeration.md)\n",
    "NVIDIA_ICD_CONFIG_PATH = '/usr/share/glvnd/egl_vendor.d/10_nvidia.json'\n",
    "if not os.path.exists(NVIDIA_ICD_CONFIG_PATH):\n",
    "  with open(NVIDIA_ICD_CONFIG_PATH, 'w') as f:\n",
    "    f.write(\"\"\"{\n",
    "    \"file_format_version\" : \"1.0.0\",\n",
    "    \"ICD\" : {\n",
    "        \"library_path\" : \"libEGL_nvidia.so.0\"\n",
    "    }\n",
    "}\n",
    "\"\"\")\n",
    "\n",
    "# Configure MuJoCo to use the EGL rendering backend (requires GPU)\n",
    "print('Setting environment variable to use GPU rendering:')\n",
    "%env MUJOCO_GL=egl\n",
    "\n",
    "# Check if installation was succesful.\n",
    "try:\n",
    "  print('Checking that the installation succeeded:')\n",
    "  import mujoco\n",
    "  mujoco.MjModel.from_xml_string('<mujoco/>')\n",
    "except Exception as e:\n",
    "  raise e from RuntimeError(\n",
    "      'Something went wrong during installation. Check the shell output above '\n",
    "      'for more information.\\n'\n",
    "      'If using a hosted Colab runtime, make sure you enable GPU acceleration '\n",
    "      'by going to the Runtime menu and selecting \"Choose runtime type\".')\n",
    "\n",
    "print('Installation successful.')\n",
    "\n",
    "# Other imports and helper functions\n",
    "import time\n",
    "import itertools\n",
    "import numpy as np\n",
    "\n",
    "# Graphics and plotting.\n",
    "print('Installing mediapy:')\n",
    "!command -v ffmpeg >/dev/null || (apt update && apt install -y ffmpeg)\n",
    "!pip install -q mediapy\n",
    "import mediapy as media\n",
    "import matplotlib.pyplot as plt\n",
    "\n",
    "# More legible printing from numpy.\n",
    "np.set_printoptions(precision=3, suppress=True, linewidth=100)\n",
    "\n",
    "from IPython.display import clear_output\n",
    "clear_output()"
   ]
  },
  {
   "cell_type": "code",
   "execution_count": 15,
   "metadata": {},
   "outputs": [],
   "source": [
    "import gymnasium as gym\n",
    "from gymnasium import spaces\n",
    "import torch\n",
    "import numpy as np\n",
    "import mujoco\n",
    "import glfw"
   ]
  },
  {
   "cell_type": "code",
   "execution_count": 16,
   "metadata": {},
   "outputs": [
    {
     "data": {
      "text/plain": [
       "'\\n    <mujoco model=\"robot\">\\n  <option apirate=\"2000\"/>\\n  <default>\\n    <default class=\"robot/\"/>\\n    </default>\\n  <worldbody>\\n    <body name=\"body_chassis_\" pos=\"0 0 1\" euler=\"0 0 0\">\\n      <camera name=\"camera_track_chassis_\" class=\"robot/\" mode=\"track\" pos=\"0 -3 1\" zaxis=\"0 -1 0.5\"/>\\n      <geom name=\"geom_chassis_\" class=\"robot/\" type=\"box\" size=\"0.22 0.16 0.10000000000000001\" rgba=\"0 0.29999999999999999 0.5 1\" mass=\"15\"/>\\n      <site name=\"right_site_chassis_\" class=\"robot/\" size=\"9.9999999999999995e-07 9.9999999999999995e-07 9.9999999999999995e-07\" pos=\"0 -0.16 0\"/>\\n      <body pos=\"0 0 0\" name=\"right_upper_link/\">\\n        <body name=\"right_upper_link/body_link_right_upper\">\\n          <geom name=\"right_upper_link/geom_link_right_upper\" class=\"robot/\" type=\"box\" size=\"0.025000000000000001 0.025000000000000001 0.3\" rgba=\"0 0.29999999999999999 0.5 1\" mass=\"2\" pos=\"0 -0.025000000000000001 -0.20000000000000001\"/>\\n          <joint name=\"right_upper_link/joint_link_right_upper\" class=\"robot/\" type=\"hinge\" axis=\"0 1 0\" ref=\"20.0\" armature=\"0.010901249999999999\" damping=\"0.073900000000000001\" frictionloss=\"0.13339999999999999\" range=\"-60 60\"/>\\n          <site name=\"right_upper_link/link_out_site_right_upper\" class=\"robot/\" size=\"9.9999999999999995e-07 9.9999999999999995e-07 9.9999999999999995e-07\" pos=\"0 -0.050000000000000003 -0.40000000000000002\"/>\\n          <body pos=\"0 -0.050000000000000003 -0.51\" name=\"right_upper_link/right_down_link/\">\\n            <body name=\"right_upper_link/right_down_link/body_link_right_down\">\\n              <geom name=\"right_upper_link/right_down_link/geom_link_right_down\" class=\"robot/\" type=\"box\" size=\"0.025000000000000001 0.025000000000000001 0.3\" rgba=\"0 0.29999999999999999 0.5 1\" mass=\"2\" pos=\"0 -0.025000000000000001 -0.20000000000000001\"/>\\n              <joint name=\"right_upper_link/right_down_link/joint_link_right_down\" class=\"robot/\" type=\"hinge\" axis=\"0 1 0\" ref=\"100.0\" armature=\"0.010901249999999999\" damping=\"0.023900000000000001\" range=\"-70 70\" frictionloss=\"0.13339999999999999\" stiffness=\"500.0\"/>\\n              <site name=\"right_upper_link/right_down_link/link_out_site_right_down\" class=\"robot/\" size=\"9.9999999999999995e-07 9.9999999999999995e-07 9.9999999999999995e-07\" pos=\"0 -0.050000000000000003 -0.40000000000000002\"/>\\n              <body pos=\"0 -0.050000000000000003 -0.40000000000000002\" name=\"right_upper_link/right_down_link/right_tire/\">\\n              </body>\\n            </body>\\n          </body>\\n        </body>\\n      </body>\\n      <joint name=\"free_floating_chassis_\" class=\"robot/\" type=\"slide\" axis=\"0 0 1\" ref=\"0.0\"/>\\n      <site name=\"imu\" class=\"robot/\" size=\"9.9999999999999995e-07 9.9999999999999995e-07 9.9999999999999995e-07\" pos=\"0 0 0\"/>\\n    </body>\\n    <light name=\"spotlight_0\" class=\"robot/\" mode=\"targetbodycom\" target=\"body_chassis_\" pos=\"0.25 0.19 0.15000000000000002\"/>\\n    <light name=\"spotlight_1\" class=\"robot/\" mode=\"targetbodycom\" target=\"body_chassis_\" pos=\"0.25 -0.19 0.15000000000000002\"/>\\n    <light name=\"spotlight_2\" class=\"robot/\" mode=\"targetbodycom\" target=\"body_chassis_\" pos=\"-0.25 0.19 0.15000000000000002\"/>\\n    <light name=\"spotlight_3\" class=\"robot/\" mode=\"targetbodycom\" target=\"body_chassis_\" pos=\"-0.25 -0.19 0.15000000000000002\"/>\\n  </worldbody>\\n  <actuator>\\n    <motor name=\"my_motor\" joint=\"right_upper_link/joint_link_right_upper\" gear=\"100\" forcelimited=\"true\" forcerange=\"-10 10\"/>\\n    <motor name=\"my_motor1\" joint=\"right_upper_link/right_down_link/joint_link_right_down\" forcelimited=\"true\" forcerange=\"-10 10\" gear=\"500\"/>\\n  </actuator>\\n  <sensor>\\n    <jointpos name=\"rbody_chassi_/pos\" joint=\"free_floating_chassis_\"/>\\n    <jointvel name=\"rbody_chassi_/vel\" joint=\"free_floating_chassis_\"/>\\n    <jointpos name=\"right_upper_link/pos\" joint=\"right_upper_link/joint_link_right_upper\"/>\\n    <jointvel name=\"right_upper_link/vel\" joint=\"right_upper_link/joint_link_right_upper\"/>\\n    <jointpos name=\"right_upper_link/right_down_link/pos\" joint=\"right_upper_link/right_down_link/joint_link_right_down\"/>\\n    <jointvel name=\"right_upper_link/right_down_link/vel\" joint=\"right_upper_link/right_down_link/joint_link_right_down\"/>\\n  </sensor>\\n  </mujoco>\\n    '"
      ]
     },
     "execution_count": 16,
     "metadata": {},
     "output_type": "execute_result"
    }
   ],
   "source": [
    "def define_model(l1, l2, k):\n",
    "    xml = f\"\"\"\n",
    "    <mujoco model=\"robot\">\n",
    "  <option apirate=\"2000\"/>\n",
    "  <default>\n",
    "    <default class=\"robot/\"/>\n",
    "    </default>\n",
    "  <worldbody>\n",
    "    <body name=\"body_chassis_\" pos=\"0 0 1\" euler=\"0 0 0\">\n",
    "      <camera name=\"camera_track_chassis_\" class=\"robot/\" mode=\"track\" pos=\"0 -3 1\" zaxis=\"0 -1 0.5\"/>\n",
    "      <geom name=\"geom_chassis_\" class=\"robot/\" type=\"box\" size=\"0.22 0.16 0.10000000000000001\" rgba=\"0 0.29999999999999999 0.5 1\" mass=\"15\"/>\n",
    "      <site name=\"right_site_chassis_\" class=\"robot/\" size=\"9.9999999999999995e-07 9.9999999999999995e-07 9.9999999999999995e-07\" pos=\"0 -0.16 0\"/>\n",
    "      <body pos=\"0 0 0\" name=\"right_upper_link/\">\n",
    "        <body name=\"right_upper_link/body_link_right_upper\">\n",
    "          <geom name=\"right_upper_link/geom_link_right_upper\" class=\"robot/\" type=\"box\" size=\"0.025000000000000001 0.025000000000000001 {l1}\" rgba=\"0 0.29999999999999999 0.5 1\" mass=\"2\" pos=\"0 -0.025000000000000001 -0.20000000000000001\"/>\n",
    "          <joint name=\"right_upper_link/joint_link_right_upper\" class=\"robot/\" type=\"hinge\" axis=\"0 1 0\" ref=\"20.0\" armature=\"0.010901249999999999\" damping=\"0.073900000000000001\" frictionloss=\"0.13339999999999999\" range=\"-60 60\"/>\n",
    "          <site name=\"right_upper_link/link_out_site_right_upper\" class=\"robot/\" size=\"9.9999999999999995e-07 9.9999999999999995e-07 9.9999999999999995e-07\" pos=\"0 -0.050000000000000003 -0.40000000000000002\"/>\n",
    "          <body pos=\"0 -0.050000000000000003 {-1.7*l1}\" name=\"right_upper_link/right_down_link/\">\n",
    "            <body name=\"right_upper_link/right_down_link/body_link_right_down\">\n",
    "              <geom name=\"right_upper_link/right_down_link/geom_link_right_down\" class=\"robot/\" type=\"box\" size=\"0.025000000000000001 0.025000000000000001 {l2}\" rgba=\"0 0.29999999999999999 0.5 1\" mass=\"2\" pos=\"0 -0.025000000000000001 -0.20000000000000001\"/>\n",
    "              <joint name=\"right_upper_link/right_down_link/joint_link_right_down\" class=\"robot/\" type=\"hinge\" axis=\"0 1 0\" ref=\"100.0\" armature=\"0.010901249999999999\" damping=\"0.023900000000000001\" range=\"-70 70\" frictionloss=\"0.13339999999999999\" stiffness=\"{k}\"/>\n",
    "              <site name=\"right_upper_link/right_down_link/link_out_site_right_down\" class=\"robot/\" size=\"9.9999999999999995e-07 9.9999999999999995e-07 9.9999999999999995e-07\" pos=\"0 -0.050000000000000003 -0.40000000000000002\"/>\n",
    "              <body pos=\"0 -0.050000000000000003 -0.40000000000000002\" name=\"right_upper_link/right_down_link/right_tire/\">\n",
    "              </body>\n",
    "            </body>\n",
    "          </body>\n",
    "        </body>\n",
    "      </body>\n",
    "      <joint name=\"free_floating_chassis_\" class=\"robot/\" type=\"slide\" axis=\"0 0 1\" ref=\"0.0\"/>\n",
    "      <site name=\"imu\" class=\"robot/\" size=\"9.9999999999999995e-07 9.9999999999999995e-07 9.9999999999999995e-07\" pos=\"0 0 0\"/>\n",
    "    </body>\n",
    "    <light name=\"spotlight_0\" class=\"robot/\" mode=\"targetbodycom\" target=\"body_chassis_\" pos=\"0.25 0.19 0.15000000000000002\"/>\n",
    "    <light name=\"spotlight_1\" class=\"robot/\" mode=\"targetbodycom\" target=\"body_chassis_\" pos=\"0.25 -0.19 0.15000000000000002\"/>\n",
    "    <light name=\"spotlight_2\" class=\"robot/\" mode=\"targetbodycom\" target=\"body_chassis_\" pos=\"-0.25 0.19 0.15000000000000002\"/>\n",
    "    <light name=\"spotlight_3\" class=\"robot/\" mode=\"targetbodycom\" target=\"body_chassis_\" pos=\"-0.25 -0.19 0.15000000000000002\"/>\n",
    "  </worldbody>\n",
    "  <actuator>\n",
    "    <motor name=\"my_motor\" joint=\"right_upper_link/joint_link_right_upper\" gear=\"100\" forcelimited=\"true\" forcerange=\"-10 10\"/>\n",
    "    <motor name=\"my_motor1\" joint=\"right_upper_link/right_down_link/joint_link_right_down\" forcelimited=\"true\" forcerange=\"-10 10\" gear=\"500\"/>\n",
    "  </actuator>\n",
    "  <sensor>\n",
    "    <jointpos name=\"rbody_chassi_/pos\" joint=\"free_floating_chassis_\"/>\n",
    "    <jointvel name=\"rbody_chassi_/vel\" joint=\"free_floating_chassis_\"/>\n",
    "    <jointpos name=\"right_upper_link/pos\" joint=\"right_upper_link/joint_link_right_upper\"/>\n",
    "    <jointvel name=\"right_upper_link/vel\" joint=\"right_upper_link/joint_link_right_upper\"/>\n",
    "    <jointpos name=\"right_upper_link/right_down_link/pos\" joint=\"right_upper_link/right_down_link/joint_link_right_down\"/>\n",
    "    <jointvel name=\"right_upper_link/right_down_link/vel\" joint=\"right_upper_link/right_down_link/joint_link_right_down\"/>\n",
    "  </sensor>\n",
    "  </mujoco>\n",
    "    \"\"\"\n",
    "    file = open(\"robot.xml\", \"w\")\n",
    "    file.write(xml)\n",
    "    file.close()\n",
    "    return xml\n",
    "\n",
    "define_model(0.29999999999999999,0.29999999999999999,500.0)"
   ]
  },
  {
   "cell_type": "code",
   "execution_count": null,
   "metadata": {},
   "outputs": [
    {
     "ename": "ModuleNotFoundError",
     "evalue": "No module named 'torch.hub'",
     "output_type": "error",
     "traceback": [
      "\u001b[0;31m---------------------------------------------------------------------------\u001b[0m",
      "\u001b[0;31mModuleNotFoundError\u001b[0m                       Traceback (most recent call last)",
      "Cell \u001b[0;32mIn[37], line 2\u001b[0m\n\u001b[1;32m      1\u001b[0m \u001b[38;5;28;01mfrom\u001b[39;00m \u001b[38;5;21;01mpathlib\u001b[39;00m \u001b[38;5;28;01mimport\u001b[39;00m Path\n\u001b[0;32m----> 2\u001b[0m \u001b[38;5;28;01mimport\u001b[39;00m \u001b[38;5;21;01mtorchvision\u001b[39;00m\n\u001b[1;32m      3\u001b[0m \u001b[38;5;28;01mimport\u001b[39;00m \u001b[38;5;21;01menum\u001b[39;00m\n\u001b[1;32m      4\u001b[0m \u001b[38;5;28;01mfrom\u001b[39;00m \u001b[38;5;21;01mtqdm\u001b[39;00m \u001b[38;5;28;01mimport\u001b[39;00m tqdm\n",
      "File \u001b[0;32m~/sber_lab/.venv/lib/python3.11/site-packages/torchvision/__init__.py:9\u001b[0m\n\u001b[1;32m      5\u001b[0m \u001b[38;5;28;01mimport\u001b[39;00m \u001b[38;5;21;01mtorch\u001b[39;00m\n\u001b[1;32m      7\u001b[0m \u001b[38;5;66;03m# Don't re-order these, we need to load the _C extension (done when importing\u001b[39;00m\n\u001b[1;32m      8\u001b[0m \u001b[38;5;66;03m# .extensions) before entering _meta_registrations.\u001b[39;00m\n\u001b[0;32m----> 9\u001b[0m \u001b[38;5;28;01mfrom\u001b[39;00m \u001b[38;5;21;01m.\u001b[39;00m\u001b[38;5;21;01mextension\u001b[39;00m \u001b[38;5;28;01mimport\u001b[39;00m _HAS_OPS  \u001b[38;5;66;03m# usort:skip\u001b[39;00m\n\u001b[1;32m     10\u001b[0m \u001b[38;5;28;01mfrom\u001b[39;00m \u001b[38;5;21;01mtorchvision\u001b[39;00m \u001b[38;5;28;01mimport\u001b[39;00m _meta_registrations, datasets, io, models, ops, transforms, utils  \u001b[38;5;66;03m# usort:skip\u001b[39;00m\n\u001b[1;32m     12\u001b[0m \u001b[38;5;28;01mtry\u001b[39;00m:\n",
      "File \u001b[0;32m~/sber_lab/.venv/lib/python3.11/site-packages/torchvision/extension.py:6\u001b[0m\n\u001b[1;32m      2\u001b[0m \u001b[38;5;28;01mimport\u001b[39;00m \u001b[38;5;21;01msys\u001b[39;00m\n\u001b[1;32m      4\u001b[0m \u001b[38;5;28;01mimport\u001b[39;00m \u001b[38;5;21;01mtorch\u001b[39;00m\n\u001b[0;32m----> 6\u001b[0m \u001b[38;5;28;01mfrom\u001b[39;00m \u001b[38;5;21;01m.\u001b[39;00m\u001b[38;5;21;01m_internally_replaced_utils\u001b[39;00m \u001b[38;5;28;01mimport\u001b[39;00m _get_extension_path\n\u001b[1;32m      9\u001b[0m _HAS_OPS \u001b[38;5;241m=\u001b[39m \u001b[38;5;28;01mFalse\u001b[39;00m\n\u001b[1;32m     12\u001b[0m \u001b[38;5;28;01mdef\u001b[39;00m \u001b[38;5;21m_has_ops\u001b[39m():\n",
      "File \u001b[0;32m~/sber_lab/.venv/lib/python3.11/site-packages/torchvision/_internally_replaced_utils.py:4\u001b[0m\n\u001b[1;32m      1\u001b[0m \u001b[38;5;28;01mimport\u001b[39;00m \u001b[38;5;21;01mimportlib\u001b[39;00m\u001b[38;5;21;01m.\u001b[39;00m\u001b[38;5;21;01mmachinery\u001b[39;00m\n\u001b[1;32m      2\u001b[0m \u001b[38;5;28;01mimport\u001b[39;00m \u001b[38;5;21;01mos\u001b[39;00m\n\u001b[0;32m----> 4\u001b[0m \u001b[38;5;28;01mfrom\u001b[39;00m \u001b[38;5;21;01mtorch\u001b[39;00m\u001b[38;5;21;01m.\u001b[39;00m\u001b[38;5;21;01mhub\u001b[39;00m \u001b[38;5;28;01mimport\u001b[39;00m _get_torch_home\n\u001b[1;32m      7\u001b[0m _HOME \u001b[38;5;241m=\u001b[39m os\u001b[38;5;241m.\u001b[39mpath\u001b[38;5;241m.\u001b[39mjoin(_get_torch_home(), \u001b[38;5;124m\"\u001b[39m\u001b[38;5;124mdatasets\u001b[39m\u001b[38;5;124m\"\u001b[39m, \u001b[38;5;124m\"\u001b[39m\u001b[38;5;124mvision\u001b[39m\u001b[38;5;124m\"\u001b[39m)\n\u001b[1;32m      8\u001b[0m _USE_SHARDED_DATASETS \u001b[38;5;241m=\u001b[39m \u001b[38;5;28;01mFalse\u001b[39;00m\n",
      "\u001b[0;31mModuleNotFoundError\u001b[0m: No module named 'torch.hub'"
     ]
    }
   ],
   "source": [
    "from pathlib import Path\n",
    "import enum\n",
    "from tqdm import tqdm\n",
    "import math"
   ]
  },
  {
   "cell_type": "code",
   "execution_count": 18,
   "metadata": {},
   "outputs": [],
   "source": [
    "class Resolution(enum.Enum):\n",
    "  SD = (480, 640)\n",
    "  HD = (720, 1280)\n",
    "  UHD = (2160, 3840)\n",
    "\n",
    "\n",
    "def quartic(t: float) -> float:\n",
    "  return 0 if abs(t) > 1 else (1 - t**2) ** 2\n",
    "\n",
    "\n",
    "def blend_coef(t: float, duration: float, std: float) -> float:\n",
    "  normalised_time = 2 * t / duration - 1\n",
    "  return quartic(normalised_time / std)\n",
    "\n",
    "\n",
    "def unit_smooth(normalised_time: float) -> float:\n",
    "  return 1 - np.cos(normalised_time * 2 * np.pi)\n",
    "\n",
    "\n",
    "def azimuth(\n",
    "    time: float, duration: float, total_rotation: float, offset: float\n",
    ") -> float:\n",
    "  return offset + unit_smooth(time / duration) * total_rotation"
   ]
  },
  {
   "cell_type": "code",
   "execution_count": 21,
   "metadata": {},
   "outputs": [],
   "source": [
    "res = Resolution.SD\n",
    "fps = 60\n",
    "duration = 10.0\n",
    "ctrl_rate = 2\n",
    "ctrl_std = 0.05\n",
    "total_rot = 60\n",
    "blend_std = .8\n"
   ]
  },
  {
   "cell_type": "code",
   "execution_count": 22,
   "metadata": {},
   "outputs": [],
   "source": [
    "h, w = res.value"
   ]
  },
  {
   "cell_type": "code",
   "execution_count": 23,
   "metadata": {},
   "outputs": [],
   "source": [
    "# Load model.\n",
    "model = mujoco.MjModel.from_xml_path(\"scene.xml\")\n",
    "data = mujoco.MjData(model)\n",
    "\n",
    "# Make sure offscreen rendering can support the desired resolution.\n",
    "model.vis.global_.offheight = h\n",
    "model.vis.global_.offwidth = w\n",
    "\n",
    "renderer = mujoco.Renderer(model, height=h, width=w)\n"
   ]
  },
  {
   "cell_type": "code",
   "execution_count": 24,
   "metadata": {},
   "outputs": [
    {
     "data": {
      "text/plain": [
       "array([0., 0.])"
      ]
     },
     "execution_count": 24,
     "metadata": {},
     "output_type": "execute_result"
    }
   ],
   "source": [
    "data.actuator_force"
   ]
  },
  {
   "cell_type": "code",
   "execution_count": 40,
   "metadata": {},
   "outputs": [
    {
     "name": "stderr",
     "output_type": "stream",
     "text": [
      "/home/daniel/sber_lab/.venv/lib/python3.11/site-packages/gymnasium/envs/registration.py:642: UserWarning: \u001b[33mWARN: Overriding environment BoxingEnv-v2 already in registry.\u001b[0m\n",
      "  logger.warn(f\"Overriding environment {new_spec.id} already in registry.\")\n"
     ]
    },
    {
     "ename": "ModuleNotFoundError",
     "evalue": "No module named 'final_boxing'",
     "output_type": "error",
     "traceback": [
      "\u001b[0;31m---------------------------------------------------------------------------\u001b[0m",
      "\u001b[0;31mModuleNotFoundError\u001b[0m                       Traceback (most recent call last)",
      "Cell \u001b[0;32mIn[40], line 104\u001b[0m\n\u001b[1;32m     98\u001b[0m \u001b[38;5;28;01mfrom\u001b[39;00m \u001b[38;5;21;01mgymnasium\u001b[39;00m\u001b[38;5;21;01m.\u001b[39;00m\u001b[38;5;21;01menvs\u001b[39;00m\u001b[38;5;21;01m.\u001b[39;00m\u001b[38;5;21;01mregistration\u001b[39;00m \u001b[38;5;28;01mimport\u001b[39;00m register\n\u001b[1;32m    100\u001b[0m register(\n\u001b[1;32m    101\u001b[0m     \u001b[38;5;28mid\u001b[39m\u001b[38;5;241m=\u001b[39m\u001b[38;5;124m'\u001b[39m\u001b[38;5;124mBoxingEnv-v2\u001b[39m\u001b[38;5;124m'\u001b[39m,\n\u001b[1;32m    102\u001b[0m     entry_point\u001b[38;5;241m=\u001b[39m\u001b[38;5;124m'\u001b[39m\u001b[38;5;124mfinal_boxing:BoxingEnv\u001b[39m\u001b[38;5;124m'\u001b[39m, \n\u001b[1;32m    103\u001b[0m )\n\u001b[0;32m--> 104\u001b[0m env \u001b[38;5;241m=\u001b[39m \u001b[43mgym\u001b[49m\u001b[38;5;241;43m.\u001b[39;49m\u001b[43mmake\u001b[49m\u001b[43m(\u001b[49m\u001b[38;5;124;43m'\u001b[39;49m\u001b[38;5;124;43mBoxingEnv-v2\u001b[39;49m\u001b[38;5;124;43m'\u001b[39;49m\u001b[43m)\u001b[49m\n",
      "File \u001b[0;32m~/sber_lab/.venv/lib/python3.11/site-packages/gymnasium/envs/registration.py:702\u001b[0m, in \u001b[0;36mmake\u001b[0;34m(id, max_episode_steps, disable_env_checker, **kwargs)\u001b[0m\n\u001b[1;32m    699\u001b[0m     env_creator \u001b[38;5;241m=\u001b[39m env_spec\u001b[38;5;241m.\u001b[39mentry_point\n\u001b[1;32m    700\u001b[0m \u001b[38;5;28;01melse\u001b[39;00m:\n\u001b[1;32m    701\u001b[0m     \u001b[38;5;66;03m# Assume it's a string\u001b[39;00m\n\u001b[0;32m--> 702\u001b[0m     env_creator \u001b[38;5;241m=\u001b[39m \u001b[43mload_env_creator\u001b[49m\u001b[43m(\u001b[49m\u001b[43menv_spec\u001b[49m\u001b[38;5;241;43m.\u001b[39;49m\u001b[43mentry_point\u001b[49m\u001b[43m)\u001b[49m\n\u001b[1;32m    704\u001b[0m \u001b[38;5;66;03m# Determine if to use the rendering\u001b[39;00m\n\u001b[1;32m    705\u001b[0m render_modes: \u001b[38;5;28mlist\u001b[39m[\u001b[38;5;28mstr\u001b[39m] \u001b[38;5;241m|\u001b[39m \u001b[38;5;28;01mNone\u001b[39;00m \u001b[38;5;241m=\u001b[39m \u001b[38;5;28;01mNone\u001b[39;00m\n",
      "File \u001b[0;32m~/sber_lab/.venv/lib/python3.11/site-packages/gymnasium/envs/registration.py:549\u001b[0m, in \u001b[0;36mload_env_creator\u001b[0;34m(name)\u001b[0m\n\u001b[1;32m    540\u001b[0m \u001b[38;5;250m\u001b[39m\u001b[38;5;124;03m\"\"\"Loads an environment with name of style ``\"(import path):(environment name)\"`` and returns the environment creation function, normally the environment class type.\u001b[39;00m\n\u001b[1;32m    541\u001b[0m \n\u001b[1;32m    542\u001b[0m \u001b[38;5;124;03mArgs:\u001b[39;00m\n\u001b[0;32m   (...)\u001b[0m\n\u001b[1;32m    546\u001b[0m \u001b[38;5;124;03m    The environment constructor for the given environment name.\u001b[39;00m\n\u001b[1;32m    547\u001b[0m \u001b[38;5;124;03m\"\"\"\u001b[39;00m\n\u001b[1;32m    548\u001b[0m mod_name, attr_name \u001b[38;5;241m=\u001b[39m name\u001b[38;5;241m.\u001b[39msplit(\u001b[38;5;124m\"\u001b[39m\u001b[38;5;124m:\u001b[39m\u001b[38;5;124m\"\u001b[39m)\n\u001b[0;32m--> 549\u001b[0m mod \u001b[38;5;241m=\u001b[39m \u001b[43mimportlib\u001b[49m\u001b[38;5;241;43m.\u001b[39;49m\u001b[43mimport_module\u001b[49m\u001b[43m(\u001b[49m\u001b[43mmod_name\u001b[49m\u001b[43m)\u001b[49m\n\u001b[1;32m    550\u001b[0m fn \u001b[38;5;241m=\u001b[39m \u001b[38;5;28mgetattr\u001b[39m(mod, attr_name)\n\u001b[1;32m    551\u001b[0m \u001b[38;5;28;01mreturn\u001b[39;00m fn\n",
      "File \u001b[0;32m/usr/lib/python3.11/importlib/__init__.py:126\u001b[0m, in \u001b[0;36mimport_module\u001b[0;34m(name, package)\u001b[0m\n\u001b[1;32m    124\u001b[0m             \u001b[38;5;28;01mbreak\u001b[39;00m\n\u001b[1;32m    125\u001b[0m         level \u001b[38;5;241m+\u001b[39m\u001b[38;5;241m=\u001b[39m \u001b[38;5;241m1\u001b[39m\n\u001b[0;32m--> 126\u001b[0m \u001b[38;5;28;01mreturn\u001b[39;00m \u001b[43m_bootstrap\u001b[49m\u001b[38;5;241;43m.\u001b[39;49m\u001b[43m_gcd_import\u001b[49m\u001b[43m(\u001b[49m\u001b[43mname\u001b[49m\u001b[43m[\u001b[49m\u001b[43mlevel\u001b[49m\u001b[43m:\u001b[49m\u001b[43m]\u001b[49m\u001b[43m,\u001b[49m\u001b[43m \u001b[49m\u001b[43mpackage\u001b[49m\u001b[43m,\u001b[49m\u001b[43m \u001b[49m\u001b[43mlevel\u001b[49m\u001b[43m)\u001b[49m\n",
      "File \u001b[0;32m<frozen importlib._bootstrap>:1204\u001b[0m, in \u001b[0;36m_gcd_import\u001b[0;34m(name, package, level)\u001b[0m\n",
      "File \u001b[0;32m<frozen importlib._bootstrap>:1176\u001b[0m, in \u001b[0;36m_find_and_load\u001b[0;34m(name, import_)\u001b[0m\n",
      "File \u001b[0;32m<frozen importlib._bootstrap>:1140\u001b[0m, in \u001b[0;36m_find_and_load_unlocked\u001b[0;34m(name, import_)\u001b[0m\n",
      "\u001b[0;31mModuleNotFoundError\u001b[0m: No module named 'final_boxing'"
     ]
    }
   ],
   "source": [
    "class HopperEnv(gym.Env):\n",
    "    def __init__(self):\n",
    "        # Load the MuJoCo model from XML string\n",
    "        self.model = mujoco.MjModel.from_xml_path(\"scene.xml\")\n",
    "        self.sim = mujoco.MjData(self.model)\n",
    "\n",
    "        # Define action and observation spaces\n",
    "        num_actuators = self.model.nu\n",
    "        num_observations = 7#2*self.model.nq  # This is just an example; adjust as needed\n",
    "        self.action_space = spaces.Box(low=-1, high=1, shape=(num_actuators,), dtype=np.float32)\n",
    "        self.observation_space = spaces.Box(low=-np.inf, high=np.inf, shape=(num_observations,), dtype=np.float32)\n",
    "\n",
    "        self.timestep = 0\n",
    "\n",
    "\n",
    "\n",
    "    def step(self, action):\n",
    "        self.timestep += 1\n",
    "\n",
    "        # Apply the action to the environment\n",
    "        self.sim.ctrl[:] = action\n",
    "        mujoco.mj_step(self.model, self.sim)\n",
    "\n",
    "        # Get the observation, reward, done, and info\n",
    "        observation = self._get_observation()\n",
    "        reward = self._get_reward()\n",
    "        trunctuated = False\n",
    "        info = {}\n",
    "\n",
    "        return observation, reward, trunctuated, info\n",
    "\n",
    "    def reset(self, seed = None, **kwargs):\n",
    "        # Set initial conditions\n",
    "        init_qpos = [0, 20, 100, 0, 0, 0, 0, ...] \n",
    "        init_qvel = [0, 0, 0, 0, 0, 0, 0, ...]\n",
    "\n",
    "        # Reset MuJoCo\n",
    "        self.sim = mujoco.MjData(self.model)\n",
    "        mujoco.mj_forward(self.model, self.sim)\n",
    "\n",
    "        # Get observation \n",
    "        obs = self._get_observation()\n",
    "        mujoco.mj_forward(self.model, self.sim)\n",
    "\n",
    "        reset_info = {}  # This can be populated with any reset-specific info if needed\n",
    "        return obs, reset_info\n",
    "\n",
    "\n",
    "    def _get_observation(self):\n",
    "      # Joint positions\n",
    "      qpos = self.sim.qpos\n",
    "      \n",
    "      # Joint velocities\n",
    "      qvel = self.sim.qvel\n",
    "\n",
    "      contact_forces = np.sum(np.sqrt(np.sum(np.square(np.array(self.sim.cfrc_ext)), axis=1)))\n",
    "      \n",
    "      # Concatenate and return as a single observation vector\n",
    "      observation = np.concatenate([qpos, qvel, [contact_forces]])\n",
    "      \n",
    "      return observation\n",
    "\n",
    "\n",
    "    def _get_reward(self):\n",
    "        w_f = 1\n",
    "        w_z = 5\n",
    "        stance_diff = w_f*np.linalg.norm(self.sim.actuator_force[0]) + w_f*np.linalg.norm(self.sim.actuator_force[1]) + w_z*self.sim.qpos[1]\n",
    "        return -stance_diff\n",
    "\n",
    "    def sample_random_action(self):\n",
    "\n",
    "      # Get action bounds\n",
    "      action_low = self.action_space.low\n",
    "      action_high = self.action_space.high\n",
    "      \n",
    "      # Sample random action as numpy array\n",
    "      action = np.random.uniform(low=action_low, high=action_high)\n",
    "      \n",
    "      return action\n",
    "\n",
    "class HopperEnvWrapper(gym.Wrapper):\n",
    "\n",
    "  def __init__(self, env):\n",
    "    super().__init__(env)\n",
    "  \n",
    "  def reset(self, seed=None, **kwargs):\n",
    "    obs = self.env.reset()\n",
    "    return obs\n",
    "  \n",
    "  def step(self, action):\n",
    "    obs, reward, trunctuated, info = self.env.step(action)\n",
    "    \n",
    "    # Calculate stance reward\n",
    "    reward = self.env._get_reward\n",
    "    \n",
    "    return obs, reward, trunctuated, info\n",
    "  \n",
    "from gymnasium.envs.registration import register\n",
    "\n",
    "register(\n",
    "    id='BoxingEnv-v2',\n",
    "    entry_point='final_boxing:BoxingEnv', \n",
    ")\n",
    "env = gym.make('BoxingEnv-v2')\n",
    "\n"
   ]
  },
  {
   "cell_type": "code",
   "execution_count": null,
   "metadata": {},
   "outputs": [
    {
     "ename": "ModuleNotFoundError",
     "evalue": "No module named 'torch.autograd'",
     "output_type": "error",
     "traceback": [
      "\u001b[0;31m---------------------------------------------------------------------------\u001b[0m",
      "\u001b[0;31mModuleNotFoundError\u001b[0m                       Traceback (most recent call last)",
      "Cell \u001b[0;32mIn[35], line 3\u001b[0m\n\u001b[1;32m      1\u001b[0m \u001b[38;5;28;01mimport\u001b[39;00m \u001b[38;5;21;01mcopy\u001b[39;00m\n\u001b[1;32m      2\u001b[0m \u001b[38;5;28;01mimport\u001b[39;00m \u001b[38;5;21;01mtorch\u001b[39;00m\n\u001b[0;32m----> 3\u001b[0m \u001b[38;5;28;01mfrom\u001b[39;00m \u001b[38;5;21;01mtorch\u001b[39;00m\u001b[38;5;21;01m.\u001b[39;00m\u001b[38;5;21;01mautograd\u001b[39;00m \u001b[38;5;28;01mimport\u001b[39;00m Variable\n\u001b[1;32m      4\u001b[0m \u001b[38;5;28;01mimport\u001b[39;00m \u001b[38;5;21;01mrandom\u001b[39;00m\n\u001b[1;32m      5\u001b[0m \u001b[38;5;28;01mimport\u001b[39;00m \u001b[38;5;21;01mmath\u001b[39;00m\n",
      "\u001b[0;31mModuleNotFoundError\u001b[0m: No module named 'torch.autograd'"
     ]
    }
   ],
   "source": []
  }
 ],
 "metadata": {
  "kernelspec": {
   "display_name": ".venv",
   "language": "python",
   "name": "python3"
  },
  "language_info": {
   "codemirror_mode": {
    "name": "ipython",
    "version": 3
   },
   "file_extension": ".py",
   "mimetype": "text/x-python",
   "name": "python",
   "nbconvert_exporter": "python",
   "pygments_lexer": "ipython3",
   "version": "3.11.10"
  }
 },
 "nbformat": 4,
 "nbformat_minor": 2
}
