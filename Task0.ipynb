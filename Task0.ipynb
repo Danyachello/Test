{
 "cells": [
  {
   "cell_type": "code",
   "execution_count": 1,
   "metadata": {
    "colab": {
     "base_uri": "https://localhost:8080/"
    },
    "id": "bMe7lZNIaPzx",
    "outputId": "8a0ec0d1-c588-4185-e481-eaab030f6219"
   },
   "outputs": [
    {
     "name": "stdout",
     "output_type": "stream",
     "text": [
      "Requirement already satisfied: skrl[torch] in ./.venv/lib/python3.11/site-packages (1.3.0)\n",
      "Requirement already satisfied: gym in ./.venv/lib/python3.11/site-packages (from skrl[torch]) (0.26.2)\n",
      "Requirement already satisfied: gymnasium in ./.venv/lib/python3.11/site-packages (from skrl[torch]) (1.0.0)\n",
      "Requirement already satisfied: tqdm in ./.venv/lib/python3.11/site-packages (from skrl[torch]) (4.67.0)\n",
      "Requirement already satisfied: packaging in ./.venv/lib/python3.11/site-packages (from skrl[torch]) (24.2)\n",
      "Requirement already satisfied: tensorboard in ./.venv/lib/python3.11/site-packages (from skrl[torch]) (2.18.0)\n",
      "Requirement already satisfied: torch>=1.9 in ./.venv/lib/python3.11/site-packages (from skrl[torch]) (2.5.1+cu121)\n",
      "Requirement already satisfied: filelock in ./.venv/lib/python3.11/site-packages (from torch>=1.9->skrl[torch]) (3.16.1)\n",
      "Requirement already satisfied: typing-extensions>=4.8.0 in ./.venv/lib/python3.11/site-packages (from torch>=1.9->skrl[torch]) (4.12.2)\n",
      "Requirement already satisfied: networkx in ./.venv/lib/python3.11/site-packages (from torch>=1.9->skrl[torch]) (3.4.2)\n",
      "Requirement already satisfied: jinja2 in ./.venv/lib/python3.11/site-packages (from torch>=1.9->skrl[torch]) (3.1.4)\n",
      "Requirement already satisfied: fsspec in ./.venv/lib/python3.11/site-packages (from torch>=1.9->skrl[torch]) (2024.10.0)\n",
      "Requirement already satisfied: nvidia-cuda-nvrtc-cu12==12.1.105 in ./.venv/lib/python3.11/site-packages (from torch>=1.9->skrl[torch]) (12.1.105)\n",
      "Requirement already satisfied: nvidia-cuda-runtime-cu12==12.1.105 in ./.venv/lib/python3.11/site-packages (from torch>=1.9->skrl[torch]) (12.1.105)\n",
      "Requirement already satisfied: nvidia-cuda-cupti-cu12==12.1.105 in ./.venv/lib/python3.11/site-packages (from torch>=1.9->skrl[torch]) (12.1.105)\n",
      "Requirement already satisfied: nvidia-cudnn-cu12==9.1.0.70 in ./.venv/lib/python3.11/site-packages (from torch>=1.9->skrl[torch]) (9.1.0.70)\n",
      "Requirement already satisfied: nvidia-cublas-cu12==12.1.3.1 in ./.venv/lib/python3.11/site-packages (from torch>=1.9->skrl[torch]) (12.1.3.1)\n",
      "Requirement already satisfied: nvidia-cufft-cu12==11.0.2.54 in ./.venv/lib/python3.11/site-packages (from torch>=1.9->skrl[torch]) (11.0.2.54)\n",
      "Requirement already satisfied: nvidia-curand-cu12==10.3.2.106 in ./.venv/lib/python3.11/site-packages (from torch>=1.9->skrl[torch]) (10.3.2.106)\n",
      "Requirement already satisfied: nvidia-cusolver-cu12==11.4.5.107 in ./.venv/lib/python3.11/site-packages (from torch>=1.9->skrl[torch]) (11.4.5.107)\n",
      "Requirement already satisfied: nvidia-cusparse-cu12==12.1.0.106 in ./.venv/lib/python3.11/site-packages (from torch>=1.9->skrl[torch]) (12.1.0.106)\n",
      "Requirement already satisfied: nvidia-nccl-cu12==2.21.5 in ./.venv/lib/python3.11/site-packages (from torch>=1.9->skrl[torch]) (2.21.5)\n",
      "Requirement already satisfied: nvidia-nvtx-cu12==12.1.105 in ./.venv/lib/python3.11/site-packages (from torch>=1.9->skrl[torch]) (12.1.105)\n",
      "Requirement already satisfied: triton==3.1.0 in ./.venv/lib/python3.11/site-packages (from torch>=1.9->skrl[torch]) (3.1.0)\n",
      "Requirement already satisfied: sympy==1.13.1 in ./.venv/lib/python3.11/site-packages (from torch>=1.9->skrl[torch]) (1.13.1)\n",
      "Requirement already satisfied: nvidia-nvjitlink-cu12 in ./.venv/lib/python3.11/site-packages (from nvidia-cusolver-cu12==11.4.5.107->torch>=1.9->skrl[torch]) (12.4.127)\n",
      "Requirement already satisfied: mpmath<1.4,>=1.1.0 in ./.venv/lib/python3.11/site-packages (from sympy==1.13.1->torch>=1.9->skrl[torch]) (1.3.0)\n",
      "Requirement already satisfied: numpy>=1.18.0 in ./.venv/lib/python3.11/site-packages (from gym->skrl[torch]) (1.26.0)\n",
      "Requirement already satisfied: cloudpickle>=1.2.0 in ./.venv/lib/python3.11/site-packages (from gym->skrl[torch]) (3.1.0)\n",
      "Requirement already satisfied: gym_notices>=0.0.4 in ./.venv/lib/python3.11/site-packages (from gym->skrl[torch]) (0.0.8)\n",
      "Requirement already satisfied: farama-notifications>=0.0.1 in ./.venv/lib/python3.11/site-packages (from gymnasium->skrl[torch]) (0.0.4)\n",
      "Requirement already satisfied: absl-py>=0.4 in ./.venv/lib/python3.11/site-packages (from tensorboard->skrl[torch]) (2.1.0)\n",
      "Requirement already satisfied: grpcio>=1.48.2 in ./.venv/lib/python3.11/site-packages (from tensorboard->skrl[torch]) (1.68.0)\n",
      "Requirement already satisfied: markdown>=2.6.8 in ./.venv/lib/python3.11/site-packages (from tensorboard->skrl[torch]) (3.7)\n",
      "Requirement already satisfied: protobuf!=4.24.0,>=3.19.6 in ./.venv/lib/python3.11/site-packages (from tensorboard->skrl[torch]) (5.28.3)\n",
      "Requirement already satisfied: setuptools>=41.0.0 in ./.venv/lib/python3.11/site-packages (from tensorboard->skrl[torch]) (75.6.0)\n",
      "Requirement already satisfied: six>1.9 in ./.venv/lib/python3.11/site-packages (from tensorboard->skrl[torch]) (1.16.0)\n",
      "Requirement already satisfied: tensorboard-data-server<0.8.0,>=0.7.0 in ./.venv/lib/python3.11/site-packages (from tensorboard->skrl[torch]) (0.7.2)\n",
      "Requirement already satisfied: werkzeug>=1.0.1 in ./.venv/lib/python3.11/site-packages (from tensorboard->skrl[torch]) (3.1.3)\n",
      "Requirement already satisfied: MarkupSafe>=2.1.1 in ./.venv/lib/python3.11/site-packages (from werkzeug>=1.0.1->tensorboard->skrl[torch]) (3.0.2)\n"
     ]
    }
   ],
   "source": [
    "!pip install skrl[\"torch\"]"
   ]
  },
  {
   "cell_type": "code",
   "execution_count": 2,
   "metadata": {
    "colab": {
     "base_uri": "https://localhost:8080/"
    },
    "id": "xuFdg3Rsqpcq",
    "outputId": "39011a68-26fd-4599-b8b7-a4037e24fde1"
   },
   "outputs": [
    {
     "name": "stdout",
     "output_type": "stream",
     "text": [
      "Requirement already satisfied: gymnasium[mujoco] in ./.venv/lib/python3.11/site-packages (1.0.0)\n",
      "Requirement already satisfied: numpy>=1.21.0 in ./.venv/lib/python3.11/site-packages (from gymnasium[mujoco]) (1.26.0)\n",
      "Requirement already satisfied: cloudpickle>=1.2.0 in ./.venv/lib/python3.11/site-packages (from gymnasium[mujoco]) (3.1.0)\n",
      "Requirement already satisfied: typing-extensions>=4.3.0 in ./.venv/lib/python3.11/site-packages (from gymnasium[mujoco]) (4.12.2)\n",
      "Requirement already satisfied: farama-notifications>=0.0.1 in ./.venv/lib/python3.11/site-packages (from gymnasium[mujoco]) (0.0.4)\n",
      "Requirement already satisfied: mujoco>=2.1.5 in ./.venv/lib/python3.11/site-packages (from gymnasium[mujoco]) (3.2.2)\n",
      "Requirement already satisfied: imageio>=2.14.1 in ./.venv/lib/python3.11/site-packages (from gymnasium[mujoco]) (2.36.0)\n",
      "Requirement already satisfied: pillow>=8.3.2 in ./.venv/lib/python3.11/site-packages (from imageio>=2.14.1->gymnasium[mujoco]) (11.0.0)\n",
      "Requirement already satisfied: absl-py in ./.venv/lib/python3.11/site-packages (from mujoco>=2.1.5->gymnasium[mujoco]) (2.1.0)\n",
      "Requirement already satisfied: etils[epath] in ./.venv/lib/python3.11/site-packages (from mujoco>=2.1.5->gymnasium[mujoco]) (1.10.0)\n",
      "Requirement already satisfied: glfw in ./.venv/lib/python3.11/site-packages (from mujoco>=2.1.5->gymnasium[mujoco]) (2.8.0)\n",
      "Requirement already satisfied: pyopengl in ./.venv/lib/python3.11/site-packages (from mujoco>=2.1.5->gymnasium[mujoco]) (3.1.7)\n",
      "Requirement already satisfied: fsspec in ./.venv/lib/python3.11/site-packages (from etils[epath]->mujoco>=2.1.5->gymnasium[mujoco]) (2024.10.0)\n",
      "Requirement already satisfied: importlib_resources in ./.venv/lib/python3.11/site-packages (from etils[epath]->mujoco>=2.1.5->gymnasium[mujoco]) (6.4.5)\n",
      "Requirement already satisfied: zipp in ./.venv/lib/python3.11/site-packages (from etils[epath]->mujoco>=2.1.5->gymnasium[mujoco]) (3.21.0)\n"
     ]
    }
   ],
   "source": [
    "!pip install \"gymnasium[mujoco]\""
   ]
  },
  {
   "cell_type": "code",
   "execution_count": 1,
   "metadata": {
    "colab": {
     "base_uri": "https://localhost:8080/"
    },
    "id": "L5FQVXjua2fJ",
    "outputId": "ae121123-e694-4e08-f118-c33a6f94dd9c"
   },
   "outputs": [
    {
     "name": "stderr",
     "output_type": "stream",
     "text": [
      "\u001b[38;20m[skrl:INFO] Seed: 2001347215\u001b[0m\n",
      "\u001b[38;20m[skrl:INFO] Environment wrapper: 'auto' (class: gymnasium.core.Wrapper, gymnasium.envs.mujoco.mujoco_env.MujocoEnv, gymnasium.utils.ezpickle.EzPickle, gymnasium.utils.record_constructor.RecordConstructorArgs)\u001b[0m\n",
      "\u001b[38;20m[skrl:INFO] Environment wrapper: gymnasium\u001b[0m\n",
      "\u001b[33;20m[skrl:WARNING] Failed to check for a vectorized environment: module 'gymnasium.experimental' has no attribute 'vector'\u001b[0m\n"
     ]
    },
    {
     "name": "stdout",
     "output_type": "stream",
     "text": [
      "100%|██████████| 100000/100000 [05:13<00:00, 319.32it/s]\n"
     ]
    }
   ],
   "source": [
    "import gymnasium as gym\n",
    "\n",
    "import torch\n",
    "import torch.nn as nn\n",
    "\n",
    "\n",
    "from skrl.agents.torch.ppo import PPO, PPO_DEFAULT_CONFIG\n",
    "from skrl.envs.wrappers.torch import wrap_env\n",
    "from skrl.memories.torch import RandomMemory\n",
    "from skrl.models.torch import DeterministicMixin, GaussianMixin, Model\n",
    "from skrl.resources.preprocessors.torch import RunningStandardScaler\n",
    "from skrl.resources.schedulers.torch import KLAdaptiveRL\n",
    "from skrl.trainers.torch import SequentialTrainer\n",
    "from skrl.utils import set_seed\n",
    "\n",
    "\n",
    "\n",
    "set_seed()  \n",
    "\n",
    "\n",
    "class Policy(GaussianMixin, Model):\n",
    "    def __init__(self, observation_space, action_space, device, clip_actions=False,\n",
    "                 clip_log_std=True, min_log_std=-20, max_log_std=2, reduction=\"sum\"):\n",
    "        Model.__init__(self, observation_space, action_space, device)\n",
    "        GaussianMixin.__init__(self, clip_actions, clip_log_std, min_log_std, max_log_std, reduction)\n",
    "\n",
    "        self.net = nn.Sequential(nn.Linear(self.num_observations, 64),\n",
    "                                 nn.ReLU(),\n",
    "                                 nn.Linear(64, 64),\n",
    "                                 nn.ReLU(),\n",
    "                                 nn.Linear(64, self.num_actions))\n",
    "        self.log_std_parameter = nn.Parameter(torch.zeros(self.num_actions))\n",
    "\n",
    "    def compute(self, inputs, role):\n",
    "        # Pendulum-v1 action_space is -2 to 2\n",
    "        return 2 * torch.tanh(self.net(inputs[\"states\"])), self.log_std_parameter, {}\n",
    "\n",
    "class Value(DeterministicMixin, Model):\n",
    "    def __init__(self, observation_space, action_space, device, clip_actions=False):\n",
    "        Model.__init__(self, observation_space, action_space, device)\n",
    "        DeterministicMixin.__init__(self, clip_actions)\n",
    "\n",
    "        self.net = nn.Sequential(nn.Linear(self.num_observations, 64),\n",
    "                                 nn.ReLU(),\n",
    "                                 nn.Linear(64, 64),\n",
    "                                 nn.ReLU(),\n",
    "                                 nn.Linear(64, 1))\n",
    "\n",
    "    def compute(self, inputs, role):\n",
    "        return self.net(inputs[\"states\"]), {}\n",
    "\n",
    "\n",
    "\n",
    "try:\n",
    "    env = gym.make('Reacher-v5')\n",
    "except (gym.error.DeprecatedEnv, gym.error.VersionNotFound) as e:\n",
    "    env_id = [spec for spec in gym.envs.registry if spec.startswith(\"Pendulum-v\")][0]\n",
    "    print(\"Pendulum-v1 not found. Trying {}\".format(env_id))\n",
    "    env = gym.vector.make(env_id)\n",
    "env = wrap_env(env)\n",
    "\n",
    "device = env.device\n",
    "\n",
    "\n",
    "\n",
    "memory = RandomMemory(memory_size=1024, num_envs=env.num_envs, device=device)\n",
    "\n",
    "models = {}\n",
    "models[\"policy\"] = Policy(env.observation_space, env.action_space, device, clip_actions=True)\n",
    "models[\"value\"] = Value(env.observation_space, env.action_space, device)\n",
    "\n",
    "\n",
    "cfg = PPO_DEFAULT_CONFIG.copy()\n",
    "cfg[\"rollouts\"] = 1024  # memory_size\n",
    "cfg[\"learning_epochs\"] = 10\n",
    "cfg[\"mini_batches\"] = 32\n",
    "cfg[\"discount_factor\"] = 0.9\n",
    "cfg[\"lambda\"] = 0.95\n",
    "cfg[\"learning_rate\"] = 1e-3\n",
    "cfg[\"learning_rate_scheduler\"] = KLAdaptiveRL\n",
    "cfg[\"learning_rate_scheduler_kwargs\"] = {\"kl_threshold\": 0.008}\n",
    "cfg[\"grad_norm_clip\"] = 0.5\n",
    "cfg[\"ratio_clip\"] = 0.2\n",
    "cfg[\"value_clip\"] = 0.2\n",
    "cfg[\"clip_predicted_values\"] = False\n",
    "cfg[\"entropy_loss_scale\"] = 0.0\n",
    "cfg[\"value_loss_scale\"] = 0.5\n",
    "cfg[\"kl_threshold\"] = 0\n",
    "cfg[\"state_preprocessor\"] = RunningStandardScaler\n",
    "cfg[\"state_preprocessor_kwargs\"] = {\"size\": env.observation_space, \"device\": device}\n",
    "cfg[\"value_preprocessor\"] = RunningStandardScaler\n",
    "cfg[\"value_preprocessor_kwargs\"] = {\"size\": 1, \"device\": device}\n",
    "\n",
    "cfg[\"experiment\"][\"write_interval\"] = 500\n",
    "cfg[\"experiment\"][\"checkpoint_interval\"] = 5000\n",
    "cfg[\"experiment\"][\"directory\"] = \"runs/torch/Pendulum\"\n",
    "\n",
    "agent = PPO(models=models,\n",
    "            memory=memory,\n",
    "            cfg=cfg,\n",
    "            observation_space=env.observation_space,\n",
    "            action_space=env.action_space,\n",
    "            device=device)\n",
    "\n",
    "\n",
    "cfg_trainer = {\"timesteps\": 100000, \"headless\": True}\n",
    "trainer = SequentialTrainer(cfg=cfg_trainer, env=env, agents=[agent])\n",
    "\n",
    "# start training\n",
    "trainer.train()\n",
    "\n",
    "\n"
   ]
  },
  {
   "cell_type": "code",
   "execution_count": 8,
   "metadata": {
    "colab": {
     "base_uri": "https://localhost:8080/"
    },
    "id": "F96qIfHtnyxG",
    "outputId": "c6a4a1c4-23f6-4540-8e66-fd133d8afe73"
   },
   "outputs": [
    {
     "name": "stdout",
     "output_type": "stream",
     "text": [
      "100%|██████████| 100000/100000 [03:07<00:00, 534.40it/s]\n"
     ]
    }
   ],
   "source": [
    "trainer.eval()"
   ]
  }
 ],
 "metadata": {
  "colab": {
   "provenance": []
  },
  "kernelspec": {
   "display_name": ".venv",
   "language": "python",
   "name": "python3"
  },
  "language_info": {
   "codemirror_mode": {
    "name": "ipython",
    "version": 3
   },
   "file_extension": ".py",
   "mimetype": "text/x-python",
   "name": "python",
   "nbconvert_exporter": "python",
   "pygments_lexer": "ipython3",
   "version": "3.11.10"
  }
 },
 "nbformat": 4,
 "nbformat_minor": 0
}
